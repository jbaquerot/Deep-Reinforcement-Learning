{
 "cells": [
  {
   "cell_type": "markdown",
   "metadata": {},
   "source": [
    "# Extra Details for Breakout-v0\n",
    "* Input is lot bigger than we're used to\n",
    "* 4 frames per states\n",
    "* Each frame is 210x160x3\n",
    "* Grayscale 210x160\n",
    "* Stacked 4x210x160 = 134,400\n",
    "* Atari games are pretty simple\n",
    "* Can downsample / crop without losing any information"
   ]
  },
  {
   "cell_type": "markdown",
   "metadata": {},
   "source": [
    "# Let's look at a frame"
   ]
  },
  {
   "cell_type": "code",
   "execution_count": 1,
   "metadata": {},
   "outputs": [],
   "source": [
    "import gym\n",
    "env = gym.make('Breakout-v0')\n",
    "A = env.reset()"
   ]
  },
  {
   "cell_type": "markdown",
   "metadata": {},
   "source": [
    "Remember! 'env.observation_space.simple()' will only give you information random samples from the \"box\""
   ]
  },
  {
   "cell_type": "markdown",
   "metadata": {},
   "source": [
    "# Showing the frame"
   ]
  },
  {
   "cell_type": "code",
   "execution_count": 2,
   "metadata": {},
   "outputs": [
    {
     "data": {
      "image/png": "[encoded data removed]",
      "text/plain": [
       "<matplotlib.figure.Figure at 0x7f8d32acb710>"
      ]
     },
     "metadata": {},
     "output_type": "display_data"
    }
   ],
   "source": [
    "import matplotlib.pyplot as plt\n",
    "plt.imshow(A)\n",
    "plt.show()"
   ]
  },
  {
   "cell_type": "markdown",
   "metadata": {},
   "source": [
    "Clearly, some parts are irrelevant\n",
    "# Crop"
   ]
  },
  {
   "cell_type": "code",
   "execution_count": 3,
   "metadata": {},
   "outputs": [
    {
     "data": {
      "image/png": "[encoded data removed]",
      "text/plain": [
       "<matplotlib.figure.Figure at 0x7f8d30719f28>"
      ]
     },
     "metadata": {},
     "output_type": "display_data"
    }
   ],
   "source": [
    "B = A[31:195]\n",
    "plt.imshow(B)\n",
    "plt.show()"
   ]
  },
  {
   "cell_type": "markdown",
   "metadata": {},
   "source": [
    "# Ba downsample"
   ]
  },
  {
   "cell_type": "code",
   "execution_count": 5,
   "metadata": {},
   "outputs": [
    {
     "data": {
      "image/png": "[encoded data removed]",
      "text/plain": [
       "<matplotlib.figure.Figure at 0x7f8d2909a710>"
      ]
     },
     "metadata": {},
     "output_type": "display_data"
    }
   ],
   "source": [
    "from scipy.misc import imresize\n",
    "C = imresize(B, size=(105, 80, 3))\n",
    "plt.imshow(C)\n",
    "plt.show()"
   ]
  },
  {
   "cell_type": "markdown",
   "metadata": {},
   "source": [
    "May be hard to see the artefacts on thi slide.\n",
    "# Nearest neighbor interpretation"
   ]
  },
  {
   "cell_type": "code",
   "execution_count": 6,
   "metadata": {},
   "outputs": [
    {
     "data": {
      "image/png": "[encoded data removed]",
      "text/plain": [
       "<matplotlib.figure.Figure at 0x7f8d306daeb8>"
      ]
     },
     "metadata": {},
     "output_type": "display_data"
    }
   ],
   "source": [
    "C = imresize(B, size= (105, 80, 3), interp= 'nearest')\n",
    "plt.imshow(C)\n",
    "plt.show()"
   ]
  },
  {
   "cell_type": "markdown",
   "metadata": {},
   "source": [
    "# Make it a square"
   ]
  },
  {
   "cell_type": "code",
   "execution_count": 7,
   "metadata": {},
   "outputs": [
    {
     "data": {
      "image/png": "[encoded data removed]",
      "text/plain": [
       "<matplotlib.figure.Figure at 0x7f8d28fdf630>"
      ]
     },
     "metadata": {},
     "output_type": "display_data"
    }
   ],
   "source": [
    "C = imresize(B, size =(80,80, 3), interp= 'nearest')\n",
    "plt.imshow(C)\n",
    "plt.show()"
   ]
  },
  {
   "cell_type": "markdown",
   "metadata": {},
   "source": [
    "# Other\n",
    "* Grayscale (take the mean along color axis)\n",
    "* Normalize to 0-1\n",
    "# Tensorflow Layers\n",
    "* Recall from CNN class: in order to connect final convolution layer + first fully connected layer, we must flatten the input\n",
    "* Requires us to calculate the convolution output size manually (not fun)\n",
    "* Spent an entire lectore explaning how to do that\n",
    "* Instead, use built-in layers\n",
    "* These are also much faster\n",
    "```python\n",
    "tf.contrib.layers.conv2d\n",
    "tf.contrib.layers.fully_connected\n",
    "```\n",
    "* Downside: we have less control over how the layers work\n",
    "* No \"params\" attribute to help us make a copy\n",
    "* We use a \"scope\" instead\n",
    "* All variables we create within the scope will have the same prefix\n",
    "* Will help us find the variables we need in order to make the copy\n",
    "# Epsilon decay\n",
    "* Decrease form 1..0.1 linearly\n",
    "* Then remain at 0.1\n",
    "# Hyperparameters\n",
    "* if you want to know the exact hyperparametres used, consul te paper: \"Playing Atari with Deep Reinforcement Learning\", Mnih et al. 2013\n",
    "* You are encouraged to tweak them\n",
    "* Always \"git pull\" so you have the latest version"
   ]
  },
  {
   "cell_type": "code",
   "execution_count": null,
   "metadata": {},
   "outputs": [],
   "source": []
  }
 ],
 "metadata": {
  "kernelspec": {
   "display_name": "Python 3",
   "language": "python",
   "name": "python3"
  },
  "language_info": {
   "codemirror_mode": {
    "name": "ipython",
    "version": 3
   },
   "file_extension": ".py",
   "mimetype": "text/x-python",
   "name": "python",
   "nbconvert_exporter": "python",
   "pygments_lexer": "ipython3",
   "version": "3.5.2"
  }
 },
 "nbformat": 4,
 "nbformat_minor": 2
}
