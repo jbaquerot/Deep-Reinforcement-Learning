{
 "cells": [
  {
   "cell_type": "code",
   "execution_count": 1,
   "metadata": {},
   "outputs": [],
   "source": [
    "from __future__ import print_function, division\n",
    "from builtins import range\n",
    "import gym\n",
    "import numpy as np\n",
    "import matplotlib.pyplot as plt"
   ]
  },
  {
   "cell_type": "code",
   "execution_count": 2,
   "metadata": {},
   "outputs": [],
   "source": [
    "def get_action(s, w):\n",
    "    return 1 if s.dot(w) > 0 else 0"
   ]
  },
  {
   "cell_type": "code",
   "execution_count": 3,
   "metadata": {},
   "outputs": [],
   "source": [
    "def play_one_episode(env, params):\n",
    "    observation = env.reset()\n",
    "    done = False\n",
    "    t = 0\n",
    "    \n",
    "    while not done and t < 10000:  #< 200 #<10000\n",
    "        #env.render()\n",
    "        t += 1\n",
    "        action = get_action(observation, params)\n",
    "        observation, reward, done, info = env.step(action)\n",
    "        if done:\n",
    "            break\n",
    "            \n",
    "    return t"
   ]
  },
  {
   "cell_type": "code",
   "execution_count": 4,
   "metadata": {},
   "outputs": [],
   "source": [
    "def play_multiple_episodes(env, T, params):\n",
    "    episode_lengths = np.empty(T)\n",
    "    \n",
    "    for i in range(T):\n",
    "        episode_lengths[i] = play_one_episode(env, params)\n",
    "        \n",
    "    avg_length = episode_lengths.mean()\n",
    "    print(\"Avg lenght:\", avg_length)\n",
    "    return avg_length"
   ]
  },
  {
   "cell_type": "code",
   "execution_count": 5,
   "metadata": {},
   "outputs": [],
   "source": [
    "def random_search(env):\n",
    "    episode_lenghts = []\n",
    "    best = 0\n",
    "    params = None\n",
    "    for t in xrange(100):\n",
    "        new_params = np.random.random(4)*2 - 1\n",
    "        avg_lenght = play_multiple_episodes(env, 100, new_params)\n",
    "        episode_lenghts.append(avg_lenght)\n",
    "        \n",
    "        if avg_lenght > best:\n",
    "            params = new_params\n",
    "            best = avg_lenght\n",
    "    return episode_lenghts, params"
   ]
  },
  {
   "cell_type": "code",
   "execution_count": 6,
   "metadata": {},
   "outputs": [
    {
     "name": "stderr",
     "output_type": "stream",
     "text": [
      "[2017-10-14 05:53:38,382] Making new env: CartPole-v0\n"
     ]
    },
    {
     "name": "stdout",
     "output_type": "stream",
     "text": [
      "Avg lenght: 62.12\n",
      "Avg lenght: 44.83\n",
      "Avg lenght: 10.03\n",
      "Avg lenght: 46.3\n",
      "Avg lenght: 9.24\n",
      "Avg lenght: 44.52\n",
      "Avg lenght: 9.01\n",
      "Avg lenght: 9.31\n",
      "Avg lenght: 100.91\n",
      "Avg lenght: 110.84\n",
      "Avg lenght: 9.34\n",
      "Avg lenght: 9.14\n",
      "Avg lenght: 9.16\n",
      "Avg lenght: 9.16\n",
      "Avg lenght: 48.71\n",
      "Avg lenght: 49.93\n",
      "Avg lenght: 53.28\n",
      "Avg lenght: 142.23\n",
      "Avg lenght: 9.22\n",
      "Avg lenght: 11.71\n",
      "Avg lenght: 24.62\n",
      "Avg lenght: 37.7\n",
      "Avg lenght: 9.06\n",
      "Avg lenght: 9.25\n",
      "Avg lenght: 9.7\n",
      "Avg lenght: 96.72\n",
      "Avg lenght: 9.11\n",
      "Avg lenght: 146.91\n",
      "Avg lenght: 9.03\n",
      "Avg lenght: 9.07\n",
      "Avg lenght: 9.65\n",
      "Avg lenght: 15.41\n",
      "Avg lenght: 9.24\n",
      "Avg lenght: 170.84\n",
      "Avg lenght: 9.86\n",
      "Avg lenght: 9.18\n",
      "Avg lenght: 9.62\n",
      "Avg lenght: 9.53\n",
      "Avg lenght: 8.81\n",
      "Avg lenght: 196.57\n",
      "Avg lenght: 127.07\n",
      "Avg lenght: 88.07\n",
      "Avg lenght: 48.54\n",
      "Avg lenght: 9.33\n",
      "Avg lenght: 147.41\n",
      "Avg lenght: 9.16\n",
      "Avg lenght: 8.9\n",
      "Avg lenght: 9.59\n",
      "Avg lenght: 70.72\n",
      "Avg lenght: 9.63\n",
      "Avg lenght: 52.14\n",
      "Avg lenght: 9.02\n",
      "Avg lenght: 9.33\n",
      "Avg lenght: 9.42\n",
      "Avg lenght: 55.83\n",
      "Avg lenght: 9.59\n",
      "Avg lenght: 9.86\n",
      "Avg lenght: 172.35\n",
      "Avg lenght: 9.05\n",
      "Avg lenght: 9.19\n",
      "Avg lenght: 56.63\n",
      "Avg lenght: 39.8\n",
      "Avg lenght: 9.44\n",
      "Avg lenght: 8.97\n",
      "Avg lenght: 9.87\n",
      "Avg lenght: 9.25\n",
      "Avg lenght: 198.33\n",
      "Avg lenght: 49.35\n",
      "Avg lenght: 9.61\n",
      "Avg lenght: 9.34\n",
      "Avg lenght: 168.12\n",
      "Avg lenght: 9.43\n",
      "Avg lenght: 8.79\n",
      "Avg lenght: 9.59\n",
      "Avg lenght: 100.29\n",
      "Avg lenght: 31.04\n",
      "Avg lenght: 32.64\n",
      "Avg lenght: 9.63\n",
      "Avg lenght: 9.5\n",
      "Avg lenght: 97.85\n",
      "Avg lenght: 42.83\n",
      "Avg lenght: 8.98\n",
      "Avg lenght: 115.94\n",
      "Avg lenght: 8.96\n",
      "Avg lenght: 198.03\n",
      "Avg lenght: 141.04\n",
      "Avg lenght: 8.92\n",
      "Avg lenght: 12.41\n",
      "Avg lenght: 103.6\n",
      "Avg lenght: 56.72\n",
      "Avg lenght: 37.86\n",
      "Avg lenght: 9.2\n",
      "Avg lenght: 9.12\n",
      "Avg lenght: 56.14\n",
      "Avg lenght: 59.6\n",
      "Avg lenght: 8.86\n",
      "Avg lenght: 9.51\n",
      "Avg lenght: 9.33\n",
      "Avg lenght: 75.02\n",
      "Avg lenght: 9.34\n"
     ]
    },
    {
     "data": {
      "image/png": "[encoded data removed]",
      "text/plain": [
       "<matplotlib.figure.Figure at 0x7fc0dd543d90>"
      ]
     },
     "metadata": {},
     "output_type": "display_data"
    },
    {
     "name": "stdout",
     "output_type": "stream",
     "text": [
      "***Final run with final weights***\n",
      "Avg lenght: 197.99\n"
     ]
    }
   ],
   "source": [
    "if __name__ == '__main__':\n",
    "    env = gym.make('CartPole-v0')\n",
    "    episode_lenghts, params = random_search(env)\n",
    "    plt.plot(episode_lenghts)\n",
    "    plt.show()\n",
    "    \n",
    "    # play a final set of episodes\n",
    "    print(\"***Final run with final weights***\")\n",
    "    play_multiple_episodes(env, 100, params)"
   ]
  },
  {
   "cell_type": "code",
   "execution_count": null,
   "metadata": {},
   "outputs": [],
   "source": []
  }
 ],
 "metadata": {
  "kernelspec": {
   "display_name": "Python 2",
   "language": "python",
   "name": "python2"
  },
  "language_info": {
   "codemirror_mode": {
    "name": "ipython",
    "version": 2
   },
   "file_extension": ".py",
   "mimetype": "text/x-python",
   "name": "python",
   "nbconvert_exporter": "python",
   "pygments_lexer": "ipython2",
   "version": "2.7.12"
  }
 },
 "nbformat": 4,
 "nbformat_minor": 2
}
