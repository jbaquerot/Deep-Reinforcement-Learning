{
 "cells": [
  {
   "cell_type": "code",
   "execution_count": 1,
   "metadata": {},
   "outputs": [],
   "source": [
    "from __future__ import print_function, division\n",
    "from builtins import range\n",
    "import gym\n",
    "from gym import wrappers\n",
    "import numpy as np\n",
    "import matplotlib.pyplot as plt"
   ]
  },
  {
   "cell_type": "code",
   "execution_count": 2,
   "metadata": {},
   "outputs": [],
   "source": [
    "def get_action(s, w):\n",
    "    return 1 if s.dot(w) > 0 else 0"
   ]
  },
  {
   "cell_type": "code",
   "execution_count": 3,
   "metadata": {},
   "outputs": [],
   "source": [
    "def play_one_episode(env, params):\n",
    "    observation = env.reset()\n",
    "    done = False\n",
    "    t = 0\n",
    "    \n",
    "    while not done and t < 10000:  #< 200 #<10000\n",
    "        #env.render()\n",
    "        t += 1\n",
    "        action = get_action(observation, params)\n",
    "        observation, reward, done, info = env.step(action)\n",
    "        if done:\n",
    "            break\n",
    "            \n",
    "    return t"
   ]
  },
  {
   "cell_type": "code",
   "execution_count": 4,
   "metadata": {},
   "outputs": [],
   "source": [
    "def play_multiple_episodes(env, T, params):\n",
    "    episode_lengths = np.empty(T)\n",
    "    \n",
    "    for i in range(T):\n",
    "        episode_lengths[i] = play_one_episode(env, params)\n",
    "        \n",
    "    avg_length = episode_lengths.mean()\n",
    "    print(\"Avg lenght:\", avg_length)\n",
    "    return avg_length"
   ]
  },
  {
   "cell_type": "code",
   "execution_count": 5,
   "metadata": {},
   "outputs": [],
   "source": [
    "def random_search(env):\n",
    "    episode_lenghts = []\n",
    "    best = 0\n",
    "    params = None\n",
    "    for t in xrange(100):\n",
    "        new_params = np.random.random(4)*2 - 1\n",
    "        avg_lenght = play_multiple_episodes(env, 100, new_params)\n",
    "        episode_lenghts.append(avg_lenght)\n",
    "        \n",
    "        if avg_lenght > best:\n",
    "            params = new_params\n",
    "            best = avg_lenght\n",
    "    return episode_lenghts, params"
   ]
  },
  {
   "cell_type": "code",
   "execution_count": 6,
   "metadata": {},
   "outputs": [
    {
     "name": "stderr",
     "output_type": "stream",
     "text": [
      "[2017-10-14 05:54:17,670] Making new env: CartPole-v0\n"
     ]
    },
    {
     "name": "stdout",
     "output_type": "stream",
     "text": [
      "Avg lenght: 200.0\n",
      "Avg lenght: 9.01\n",
      "Avg lenght: 30.15\n",
      "Avg lenght: 25.49\n",
      "Avg lenght: 9.81\n",
      "Avg lenght: 54.74\n",
      "Avg lenght: 9.45\n",
      "Avg lenght: 41.0\n",
      "Avg lenght: 9.9\n",
      "Avg lenght: 9.16\n",
      "Avg lenght: 8.94\n",
      "Avg lenght: 8.85\n",
      "Avg lenght: 45.11\n",
      "Avg lenght: 9.54\n",
      "Avg lenght: 9.49\n",
      "Avg lenght: 9.18\n",
      "Avg lenght: 46.23\n",
      "Avg lenght: 9.67\n",
      "Avg lenght: 53.49\n",
      "Avg lenght: 9.33\n",
      "Avg lenght: 9.16\n",
      "Avg lenght: 127.68\n",
      "Avg lenght: 9.13\n",
      "Avg lenght: 156.49\n",
      "Avg lenght: 58.6\n",
      "Avg lenght: 54.18\n",
      "Avg lenght: 9.53\n",
      "Avg lenght: 9.1\n",
      "Avg lenght: 83.04\n",
      "Avg lenght: 16.33\n",
      "Avg lenght: 122.68\n",
      "Avg lenght: 66.4\n",
      "Avg lenght: 27.95\n",
      "Avg lenght: 83.44\n",
      "Avg lenght: 9.66\n",
      "Avg lenght: 86.14\n",
      "Avg lenght: 95.02\n",
      "Avg lenght: 184.99\n",
      "Avg lenght: 8.96\n",
      "Avg lenght: 8.97\n",
      "Avg lenght: 49.18\n",
      "Avg lenght: 197.3\n",
      "Avg lenght: 9.57\n",
      "Avg lenght: 185.69\n",
      "Avg lenght: 66.12\n",
      "Avg lenght: 9.51\n",
      "Avg lenght: 8.99\n",
      "Avg lenght: 9.53\n",
      "Avg lenght: 9.63\n",
      "Avg lenght: 8.99\n",
      "Avg lenght: 9.51\n",
      "Avg lenght: 90.98\n",
      "Avg lenght: 55.19\n",
      "Avg lenght: 9.74\n",
      "Avg lenght: 20.32\n",
      "Avg lenght: 9.41\n",
      "Avg lenght: 8.94\n",
      "Avg lenght: 12.76\n",
      "Avg lenght: 9.31\n",
      "Avg lenght: 9.71\n",
      "Avg lenght: 9.23\n",
      "Avg lenght: 9.48\n",
      "Avg lenght: 89.94\n",
      "Avg lenght: 9.43\n",
      "Avg lenght: 9.61\n",
      "Avg lenght: 9.56\n",
      "Avg lenght: 9.42\n",
      "Avg lenght: 9.14\n",
      "Avg lenght: 18.78\n",
      "Avg lenght: 125.91\n",
      "Avg lenght: 9.8\n",
      "Avg lenght: 80.19\n",
      "Avg lenght: 9.65\n",
      "Avg lenght: 9.64\n",
      "Avg lenght: 8.86\n",
      "Avg lenght: 13.84\n",
      "Avg lenght: 114.55\n",
      "Avg lenght: 9.68\n",
      "Avg lenght: 9.78\n",
      "Avg lenght: 9.31\n",
      "Avg lenght: 9.17\n",
      "Avg lenght: 9.35\n",
      "Avg lenght: 153.54\n",
      "Avg lenght: 108.12\n",
      "Avg lenght: 9.13\n",
      "Avg lenght: 85.84\n",
      "Avg lenght: 49.59\n",
      "Avg lenght: 9.46\n",
      "Avg lenght: 9.17\n",
      "Avg lenght: 154.86\n",
      "Avg lenght: 57.92\n",
      "Avg lenght: 125.42\n",
      "Avg lenght: 166.93\n",
      "Avg lenght: 99.76\n",
      "Avg lenght: 155.27\n",
      "Avg lenght: 9.04\n",
      "Avg lenght: 9.05\n",
      "Avg lenght: 140.59\n",
      "Avg lenght: 9.4\n",
      "Avg lenght: 9.61\n"
     ]
    },
    {
     "data": {
      "image/png": "[encoded data removed]",
      "text/plain": [
       "<matplotlib.figure.Figure at 0x7fb899775fd0>"
      ]
     },
     "metadata": {},
     "output_type": "display_data"
    },
    {
     "name": "stderr",
     "output_type": "stream",
     "text": [
      "[2017-10-14 05:54:20,776] Creating monitor directory ./carPole_savedVideo\n",
      "[2017-10-14 05:54:20,790] Starting new video recorder writing to /notebooks/notebooks/carPole_savedVideo/openaigym.video.0.382.video000000.mp4\n"
     ]
    },
    {
     "name": "stdout",
     "output_type": "stream",
     "text": [
      "***Final run with final weights***\n"
     ]
    },
    {
     "name": "stderr",
     "output_type": "stream",
     "text": [
      "[2017-10-14 05:54:23,520] Starting new video recorder writing to /notebooks/notebooks/carPole_savedVideo/openaigym.video.0.382.video000001.mp4\n",
      "[2017-10-14 05:54:25,388] Starting new video recorder writing to /notebooks/notebooks/carPole_savedVideo/openaigym.video.0.382.video000008.mp4\n",
      "[2017-10-14 05:54:27,288] Starting new video recorder writing to /notebooks/notebooks/carPole_savedVideo/openaigym.video.0.382.video000027.mp4\n",
      "[2017-10-14 05:54:29,222] Starting new video recorder writing to /notebooks/notebooks/carPole_savedVideo/openaigym.video.0.382.video000064.mp4\n"
     ]
    },
    {
     "name": "stdout",
     "output_type": "stream",
     "text": [
      "Avg lenght: 200.0\n"
     ]
    }
   ],
   "source": [
    "if __name__ == '__main__':\n",
    "    env = gym.make('CartPole-v0')\n",
    "    episode_lenghts, params = random_search(env)\n",
    "    plt.plot(episode_lenghts)\n",
    "    plt.show()\n",
    "    \n",
    "    # play a final set of episodes\n",
    "    env = wrappers.Monitor(env, './carPole_savedVideo')\n",
    "    print(\"***Final run with final weights***\")\n",
    "    play_multiple_episodes(env, 100, params)"
   ]
  },
  {
   "cell_type": "code",
   "execution_count": null,
   "metadata": {},
   "outputs": [],
   "source": []
  }
 ],
 "metadata": {
  "kernelspec": {
   "display_name": "Python 2",
   "language": "python",
   "name": "python2"
  },
  "language_info": {
   "codemirror_mode": {
    "name": "ipython",
    "version": 2
   },
   "file_extension": ".py",
   "mimetype": "text/x-python",
   "name": "python",
   "nbconvert_exporter": "python",
   "pygments_lexer": "ipython2",
   "version": "2.7.12"
  }
 },
 "nbformat": 4,
 "nbformat_minor": 2
}
