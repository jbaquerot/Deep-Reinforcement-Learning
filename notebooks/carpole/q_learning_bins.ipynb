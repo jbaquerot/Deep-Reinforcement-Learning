{
 "cells": [
  {
   "cell_type": "code",
   "execution_count": 1,
   "metadata": {},
   "outputs": [],
   "source": [
    "from __future__ import print_function, division\n",
    "from builtins import range\n",
    "import gym\n",
    "import os\n",
    "import sys\n",
    "import numpy as np\n",
    "import pandas as pd\n",
    "import matplotlib.pyplot as plt\n",
    "from gym import wrappers\n",
    "from datetime import datetime"
   ]
  },
  {
   "cell_type": "code",
   "execution_count": 2,
   "metadata": {},
   "outputs": [],
   "source": [
    "# turns list of integers into an int\n",
    "# Ex.\n",
    "# build_state([1,2,3,4,5]) -> 12345\n",
    "def build_state(features):\n",
    "    return int(\"\".join(map(lambda feature: str(int(feature)), features)))"
   ]
  },
  {
   "cell_type": "code",
   "execution_count": 3,
   "metadata": {},
   "outputs": [],
   "source": [
    "def to_bin(value, bins):\n",
    "    return np.digitize(x= [value], bins= bins)[0]"
   ]
  },
  {
   "cell_type": "code",
   "execution_count": 11,
   "metadata": {},
   "outputs": [],
   "source": [
    "class FeatureTransformer:\n",
    "    def __init__(self):\n",
    "        # Note: to make this better you could look at how often eac bin was\n",
    "        # actually used while running the script.\n",
    "        # It's no clear from the high/low values nor sample() what values\n",
    "        # we really expect to get.\n",
    "        self.cart_position_bins = np.linspace(-2.4, 2.4, 9)\n",
    "        self.cart_velocity_bins = np.linspace(-2, 2, 9) # (-inf, inf) I did not check that these were good values)\n",
    "        self.pole_angle_bins = np.linspace(-0.4, 0.4, 9)\n",
    "        self.pole_velocity_bins = np.linspace(-3.5, 3.5, 9) # (-inf, inf) I did not check that these were good values)\n",
    "        \n",
    "    def transform(self, observation):\n",
    "        # returns an int\n",
    "        cart_pos, cart_vel, pole_angle, pole_vel = observation\n",
    "        return build_state([\n",
    "            to_bin(cart_pos, self.cart_position_bins),\n",
    "            to_bin(cart_vel, self.cart_velocity_bins),\n",
    "            to_bin(pole_angle, self.pole_angle_bins),\n",
    "            to_bin(pole_vel, self.pole_velocity_bins)\n",
    "        ])\n",
    "        "
   ]
  },
  {
   "cell_type": "code",
   "execution_count": 5,
   "metadata": {},
   "outputs": [],
   "source": [
    "class Model:\n",
    "    def __init__(self, env, feature_transformer):\n",
    "        self.env = env\n",
    "        self.feature_transformer = feature_transformer\n",
    "        \n",
    "        num_states = 10**env.observation_space.shape[0]\n",
    "        num_actions = env.action_space.n\n",
    "        self.Q = np.random.uniform(low= -1, high= 1, size= (num_states, num_actions))\n",
    "        \n",
    "    def predict(self, s):\n",
    "        x = self.feature_transformer.transform(s)\n",
    "        return self.Q[x] #return an array of actions\n",
    "        \n",
    "    def update(self, s, a, G):\n",
    "        x = self.feature_transformer.transform(s)\n",
    "        self.Q[x,a] += 10e-5 * (G - self.Q[x,a]) # update Q with gradient-descent\n",
    "        \n",
    "    def sample_action(self, s, eps): # epsilon-greedy\n",
    "        if np.random.random() < eps:\n",
    "            return self.env.action_space.sample()\n",
    "        else:\n",
    "            p = self.predict(s)\n",
    "            return np.argmax(p)"
   ]
  },
  {
   "cell_type": "code",
   "execution_count": 13,
   "metadata": {},
   "outputs": [],
   "source": [
    "# returns a list of states_and_rewards, an the total reward\n",
    "def play_one(model, eps, gamma):\n",
    "    # gamma: discount rate\n",
    "    observation = env.reset()\n",
    "    done = False\n",
    "    totalreward = 0\n",
    "    iters = 0\n",
    "    while not done and iters < 10000:\n",
    "        action = model.sample_action(observation, eps)\n",
    "        prev_observation = observation\n",
    "        observation, reward, done, info = env.step(action)\n",
    "        \n",
    "        totalreward += reward\n",
    "        \n",
    "        if done and iters < 199:\n",
    "            rewards = -300\n",
    "            \n",
    "        # update the model\n",
    "        G = reward + gamma * np.max(model.predict(observation))\n",
    "        model.update(prev_observation, action, G)\n",
    "        \n",
    "        iters += 1\n",
    "        \n",
    "    return totalreward"
   ]
  },
  {
   "cell_type": "code",
   "execution_count": 8,
   "metadata": {},
   "outputs": [],
   "source": [
    "def plot_running_avg(totalrewards):\n",
    "    N = len(totalrewards)\n",
    "    running_avg = np.empty(N)\n",
    "    for t in range(N):\n",
    "        running_avg[t] = totalrewards[max(0, t - 100):(t+1)].mean()\n",
    "    plt.plot(running_avg)\n",
    "    plt.title(\"Running Average\")\n",
    "    plt.show()"
   ]
  },
  {
   "cell_type": "code",
   "execution_count": 16,
   "metadata": {},
   "outputs": [
    {
     "name": "stderr",
     "output_type": "stream",
     "text": [
      "[2017-10-14 14:32:37,420] Making new env: CartPole-v0\n"
     ]
    },
    {
     "name": "stdout",
     "output_type": "stream",
     "text": [
      "episode: 0 total reward: 14.0 eps: 1.0\n",
      "episode: 1000 total reward: 40.0 eps: 0.0316069770621\n",
      "episode: 2000 total reward: 45.0 eps: 0.0223550917005\n",
      "episode: 3000 total reward: 110.0 eps: 0.0182543764409\n",
      "episode: 4000 total reward: 18.0 eps: 0.0158094122478\n",
      "episode: 5000 total reward: 36.0 eps: 0.0141407216223\n",
      "episode: 6000 total reward: 24.0 eps: 0.0129088687931\n",
      "episode: 7000 total reward: 21.0 eps: 0.0119514324501\n",
      "episode: 8000 total reward: 21.0 eps: 0.0111796411818\n",
      "episode: 9000 total reward: 133.0 eps: 0.0105403399757\n",
      "avg reward for last 100 episodes: 49.58\n",
      "total steps: 455214.0\n"
     ]
    },
    {
     "data": {
      "image/png": "[encoded data removed]",
      "text/plain": [
       "<matplotlib.figure.Figure at 0x7f01ad006a90>"
      ]
     },
     "metadata": {},
     "output_type": "display_data"
    },
    {
     "data": {
      "image/png": "[encoded data removed]",
      "text/plain": [
       "<matplotlib.figure.Figure at 0x7f01aad33c10>"
      ]
     },
     "metadata": {},
     "output_type": "display_data"
    }
   ],
   "source": [
    "if __name__ == '__main__':\n",
    "    env = gym.make('CartPole-v0')\n",
    "    ft = FeatureTransformer()\n",
    "    model = Model(env, ft)\n",
    "    gamma = 0.9\n",
    "    \n",
    "    if 'monitor' in sys.argv:\n",
    "        filename = os.path.basename(__file__).split('.')[0]\n",
    "        monitor_dir = './' + filename + '_' + str(datetime.now())\n",
    "        env = wrappers.Monitor(env, monitor_dir)\n",
    "        \n",
    "    N = 10000\n",
    "    totalrewards = np.empty(N)\n",
    "    for n in range(N):\n",
    "        eps = 1.0/np.sqrt(n + 1)\n",
    "        totalreward = play_one(model, eps, gamma)\n",
    "        totalrewards[n] = totalreward\n",
    "        if n % 1000 == 0:\n",
    "            print(\"episode:\", n, \"total reward:\", totalreward, \"eps:\", eps)\n",
    "    print(\"avg reward for last 100 episodes:\", totalrewards[-100:].mean())\n",
    "    print(\"total steps:\", totalrewards.sum())\n",
    "    \n",
    "    plt.plot(totalrewards)\n",
    "    plt.title(\"Rewards\")\n",
    "    plt.show()\n",
    "    \n",
    "    plot_running_avg(totalrewards)"
   ]
  },
  {
   "cell_type": "code",
   "execution_count": null,
   "metadata": {},
   "outputs": [],
   "source": []
  }
 ],
 "metadata": {
  "kernelspec": {
   "display_name": "Python 3",
   "language": "python",
   "name": "python3"
  },
  "language_info": {
   "codemirror_mode": {
    "name": "ipython",
    "version": 3
   },
   "file_extension": ".py",
   "mimetype": "text/x-python",
   "name": "python",
   "nbconvert_exporter": "python",
   "pygments_lexer": "ipython3",
   "version": "3.5.2"
  }
 },
 "nbformat": 4,
 "nbformat_minor": 2
}
